{
  "nbformat": 4,
  "nbformat_minor": 0,
  "metadata": {
    "colab": {
      "provenance": [],
      "authorship_tag": "ABX9TyPf3jIyDmnbPZYHJCDzSP7u",
      "include_colab_link": true
    },
    "kernelspec": {
      "name": "python3",
      "display_name": "Python 3"
    },
    "language_info": {
      "name": "python"
    }
  },
  "cells": [
    {
      "cell_type": "markdown",
      "metadata": {
        "id": "view-in-github",
        "colab_type": "text"
      },
      "source": [
        "<a href=\"https://colab.research.google.com/github/AkbariAidul/Tipe-data-python/blob/main/Tipe_data_python.ipynb\" target=\"_parent\"><img src=\"https://colab.research.google.com/assets/colab-badge.svg\" alt=\"Open In Colab\"/></a>"
      ]
    },
    {
      "cell_type": "markdown",
      "source": [
        "List : Kumpulan data yang bisa diubah. Element list bisa bertipe apa saja dan bisa diakse menggunakan index."
      ],
      "metadata": {
        "id": "ncjEihH4hXRQ"
      }
    },
    {
      "cell_type": "code",
      "execution_count": null,
      "metadata": {
        "colab": {
          "base_uri": "https://localhost:8080/"
        },
        "id": "Sdqb7SZKZN4O",
        "outputId": "2a46acdf-4cc2-4661-83a0-f2c1466d2c81"
      },
      "outputs": [
        {
          "output_type": "stream",
          "name": "stdout",
          "text": [
            "apel\n",
            "['apel', 'jeruk', 'mangga', 'pisang']\n",
            "['semangka', 'apel', 'jeruk', 'mangga', 'pisang']\n",
            "['semangka', 'apel', 'jeruk', 'pisang']\n"
          ]
        }
      ],
      "source": [
        "buah = [\"apel\", \"jeruk\", \"mangga\"]\n",
        "print(buah[0])\n",
        "buah.append(\"pisang\")\n",
        "print(buah)"
      ]
    },
    {
      "cell_type": "markdown",
      "source": [
        "Latihan\n"
      ],
      "metadata": {
        "id": "U_sYK31Ehb9P"
      }
    },
    {
      "cell_type": "code",
      "source": [
        "myFriends = [\"Jaka\", \"Jiki\", \"Joko\"]\n",
        "print(myFriends[1])\n",
        "myFriends.append(\"Jono\")\n",
        "print(myFriends)"
      ],
      "metadata": {
        "colab": {
          "base_uri": "https://localhost:8080/"
        },
        "id": "gdAxdTHZhP8w",
        "outputId": "f53eec9c-480f-4dd8-e1f7-d4ab7026d203"
      },
      "execution_count": null,
      "outputs": [
        {
          "output_type": "stream",
          "name": "stdout",
          "text": [
            "Jiki\n",
            "['Jaka', 'Jiki', 'Joko', 'Jono']\n"
          ]
        }
      ]
    },
    {
      "cell_type": "markdown",
      "source": [],
      "metadata": {
        "id": "Jy89cX1WbxIP"
      }
    },
    {
      "cell_type": "markdown",
      "source": [],
      "metadata": {
        "id": "Xim8pQJUZrqW"
      }
    },
    {
      "cell_type": "markdown",
      "source": [
        "DICTIONARY : Menyimpan data dalam bentuk pasangan kunci dan nilai\n"
      ],
      "metadata": {
        "id": "32Q40lo7jpPC"
      }
    },
    {
      "cell_type": "code",
      "source": [
        "mySelf = {\n",
        "    \"Nama\" : \"Aidul Akbari\",\n",
        "    \"NIM\" : 24302013,\n",
        "    \"Mata Kuliah\" : \"Struktur Data\",\n",
        "    \"Program Studi\" : \"Teknik Informatika\"\n",
        "}\n",
        "print(mySelf)\n",
        "print(\"NIM : \", mySelf[\"NIM\"])"
      ],
      "metadata": {
        "colab": {
          "base_uri": "https://localhost:8080/"
        },
        "id": "keke0GFaj1Sb",
        "outputId": "ca22a1a1-69f0-4d7a-8169-94ea97d338cc"
      },
      "execution_count": null,
      "outputs": [
        {
          "output_type": "stream",
          "name": "stdout",
          "text": [
            "{'Nama': 'Aidul Akbari', 'NIM': 24302013, 'Mata Kuliah': 'Struktur Data', 'Program Studi': 'Teknik Informatika'}\n",
            "NIM :  24302013\n"
          ]
        }
      ]
    },
    {
      "cell_type": "markdown",
      "source": [
        "Tuple : datanya gabisa diubah\n"
      ],
      "metadata": {
        "id": "dGEH3OXxqa5W"
      }
    },
    {
      "cell_type": "code",
      "source": [
        "koordinat = (5, 10)\n",
        "print(koordinat[0])"
      ],
      "metadata": {
        "colab": {
          "base_uri": "https://localhost:8080/"
        },
        "id": "xmXk309QqiV9",
        "outputId": "5235d10a-353c-46b6-fb33-3cb77014b6b0"
      },
      "execution_count": null,
      "outputs": [
        {
          "output_type": "stream",
          "name": "stdout",
          "text": [
            "5\n"
          ]
        }
      ]
    },
    {
      "cell_type": "markdown",
      "source": [
        "SET : tidak menerima data duplicate dan tidak punya urutan pasti\n"
      ],
      "metadata": {
        "id": "G0uoOE0lrZFX"
      }
    },
    {
      "cell_type": "code",
      "source": [
        "angka = {1, 1, 1, 2, 2, 3}\n",
        "print(angka)"
      ],
      "metadata": {
        "colab": {
          "base_uri": "https://localhost:8080/"
        },
        "id": "EOS3llIJru0g",
        "outputId": "f33164ba-d11b-4d20-800c-66e033b912f4"
      },
      "execution_count": null,
      "outputs": [
        {
          "output_type": "stream",
          "name": "stdout",
          "text": [
            "{1, 2, 3}\n"
          ]
        }
      ]
    },
    {
      "cell_type": "markdown",
      "source": [],
      "metadata": {
        "id": "-WKdViPSuZx-"
      }
    },
    {
      "cell_type": "markdown",
      "source": [
        "SORTING : Mengurutkan data dalam list,"
      ],
      "metadata": {
        "id": "pl4sP7aLshj-"
      }
    },
    {
      "cell_type": "code",
      "source": [
        "nilai = [90, 70, 60]\n",
        "nilai.sort()\n",
        "print(nilai)"
      ],
      "metadata": {
        "colab": {
          "base_uri": "https://localhost:8080/"
        },
        "id": "cjWPK-KaubzU",
        "outputId": "e4bbed83-bb29-4926-8655-b2ea8ec066d9"
      },
      "execution_count": null,
      "outputs": [
        {
          "output_type": "stream",
          "name": "stdout",
          "text": [
            "[60, 70, 90]\n"
          ]
        }
      ]
    }
  ]
}